{
 "cells": [
  {
   "cell_type": "code",
   "execution_count": 18,
   "id": "68df8b95",
   "metadata": {},
   "outputs": [
    {
     "data": {
      "text/plain": [
       "49"
      ]
     },
     "execution_count": 18,
     "metadata": {},
     "output_type": "execute_result"
    }
   ],
   "source": [
    "# Write a Python program to solve (x + y) * (x + y)\n",
    "# Test Data : x = 4, y = 3\n",
    "\n",
    "x = 4\n",
    "y = 3\n",
    "\n",
    "(x+y)*(x+y)"
   ]
  },
  {
   "cell_type": "code",
   "execution_count": 19,
   "id": "3f7a17f4",
   "metadata": {},
   "outputs": [
    {
     "data": {
      "text/plain": [
       "1.2"
      ]
     },
     "execution_count": 19,
     "metadata": {},
     "output_type": "execute_result"
    }
   ],
   "source": [
    "# Write a Python program to parse a string to Float or Integer.\n",
    "\n",
    "var = \"1.2\"\n",
    "float(var)\n",
    "\n"
   ]
  },
  {
   "cell_type": "code",
   "execution_count": 43,
   "id": "aa8a43ca",
   "metadata": {},
   "outputs": [
    {
     "name": "stdout",
     "output_type": "stream",
     "text": [
      "Enter a positive integer:5\n",
      "15\n"
     ]
    }
   ],
   "source": [
    "# Write a python program to find the sum of the first n positive integers.\n",
    "\n",
    "n = int(input(\"Enter a positive integer:\"))\n",
    "\n",
    "sum = (n*(n+1))//2  # Formula for sum of natural numbers\n",
    "  \n",
    "print(sum)"
   ]
  },
  {
   "cell_type": "code",
   "execution_count": 46,
   "id": "eb9e116b",
   "metadata": {},
   "outputs": [
    {
     "name": "stdout",
     "output_type": "stream",
     "text": [
      "Enter a distance in feet: 12\n",
      "Distance in inches:  144\n",
      "Distance in yards:  4.0\n",
      "Distance in miles:  0.0022727272727272726\n"
     ]
    }
   ],
   "source": [
    "# Write a Python program to convert the distance (in feet) to inches, yards, and miles\n",
    "\n",
    "distance_feet =int(input(\"Enter a distance in feet: \"))\n",
    "\n",
    "distance_inches = distance_feet*12                # 1 foot = 12 inches\n",
    "print(\"Distance in inches: \", distance_inches)               \n",
    "distance_yards = distance_feet/3                  # 1 yard = 3 feet\n",
    "print(\"Distance in yards: \", distance_yards)\n",
    "distance_miles = distance_feet/5280               # 1 mile = 5280 feet\n",
    "print(\"Distance in miles: \", distance_miles)"
   ]
  },
  {
   "cell_type": "code",
   "execution_count": 58,
   "id": "54969544",
   "metadata": {},
   "outputs": [
    {
     "name": "stdout",
     "output_type": "stream",
     "text": [
      "Enter a number: 500\n",
      "500 minutes to seconds:  30000\n",
      "500 hours to seconds:  1800000\n",
      "500 days to seconds:  43200000\n",
      "500 years to seconds:  15768000000\n"
     ]
    }
   ],
   "source": [
    "# Write a Python program to convert all units of time into seconds\n",
    "\n",
    "num = int(input(\"Enter a number: \"))\n",
    "\n",
    "minute = 60\n",
    "hour = minute*60\n",
    "day = hour*24\n",
    "year = day*365\n",
    "\n",
    "print(num, \"minutes to seconds: \", num*minute)\n",
    "print(num, \"hours to seconds: \", num*hour)\n",
    "print(num, \"days to seconds: \", num*day)\n",
    "print(num, \"years to seconds: \", num*year)\n"
   ]
  },
  {
   "cell_type": "code",
   "execution_count": 57,
   "id": "7bece79f",
   "metadata": {},
   "outputs": [
    {
     "name": "stdout",
     "output_type": "stream",
     "text": [
      "100 second(s) =\n",
      "0.00011574074074074075 day(s)\n",
      "0.027777777777777776 hour(s)\n",
      "1.6666666666666667 minute(s)\n",
      "100 second(s)\n"
     ]
    }
   ],
   "source": [
    "# Write a Python program to convert seconds to day, hour, minutes and seconds.\n",
    "\n",
    "time_seconds = 100\n",
    "\n",
    "print(time_seconds, 'second(s) =')\n",
    "# Convert to days\n",
    "print(time_seconds/864000, 'day(s)')\n",
    "\n",
    "# Convert to hours\n",
    "print(time_seconds/3600, 'hour(s)')\n",
    "\n",
    "# Convert to minutes\n",
    "print(time_seconds/60, 'minute(s)')\n",
    "\n",
    "# Convert to seconds\n",
    "print(time_seconds, 'second(s)')"
   ]
  },
  {
   "cell_type": "code",
   "execution_count": 36,
   "id": "a4c4194c",
   "metadata": {},
   "outputs": [
    {
     "name": "stdout",
     "output_type": "stream",
     "text": [
      "30 + 20 = 50\n"
     ]
    }
   ],
   "source": [
    "# Given variables x=30 and y=20, write a Python program to print \"30+20=50\"\n",
    "x = 30\n",
    "y = 20\n",
    "\n",
    "print(x,\"+\",y,\"=\",x+y)\n",
    "\n"
   ]
  },
  {
   "cell_type": "code",
   "execution_count": 40,
   "id": "e313c5bd",
   "metadata": {},
   "outputs": [
    {
     "name": "stdout",
     "output_type": "stream",
     "text": [
      "First day of a Month!\n"
     ]
    }
   ],
   "source": [
    "# Write a Python program to perform an action if a condition is true. \n",
    "# Given a variable name, if the value is 1, display the string First day of a Month!\"\n",
    "# and do nothing if the value is not equal.\n",
    "\n",
    "var = 1\n",
    "\n",
    "if (var == 1):\n",
    "    print(\"First day of a Month!\")\n",
    "    "
   ]
  },
  {
   "cell_type": "code",
   "execution_count": 62,
   "id": "9704e45a",
   "metadata": {},
   "outputs": [
    {
     "name": "stdout",
     "output_type": "stream",
     "text": [
      "Variable is of type: <class 'str'>\n"
     ]
    }
   ],
   "source": [
    "# Write a Python program to check whether variable is of integer or string type\n",
    "\n",
    "var = 'string'\n",
    "\n",
    "if type(var) == str or int:\n",
    "    print(\"Variable is of type:\", type(var))\n",
    "else:\n",
    "    print(\"Variable is neither integer or string\")\n"
   ]
  },
  {
   "cell_type": "code",
   "execution_count": 68,
   "id": "38a61028",
   "metadata": {},
   "outputs": [
    {
     "name": "stdout",
     "output_type": "stream",
     "text": [
      "[3, 9, 15, 30, 77, 58]\n",
      "Max:  77 \n",
      "Min:  3\n"
     ]
    }
   ],
   "source": [
    "# Write a Python function to find the maximum and minimum numbers from a\n",
    "# sequence of numbers\n",
    "\n",
    "seq = [3, 9, 15, 30, 77, 58]\n",
    "\n",
    "print(seq)\n",
    "print('Max: ', max(seq), '\\nMin: ', min(seq))\n"
   ]
  },
  {
   "cell_type": "code",
   "execution_count": null,
   "id": "156ff992",
   "metadata": {},
   "outputs": [],
   "source": []
  },
  {
   "cell_type": "code",
   "execution_count": null,
   "id": "1af23994",
   "metadata": {},
   "outputs": [],
   "source": []
  }
 ],
 "metadata": {
  "kernelspec": {
   "display_name": "Python 3",
   "language": "python",
   "name": "python3"
  },
  "language_info": {
   "codemirror_mode": {
    "name": "ipython",
    "version": 3
   },
   "file_extension": ".py",
   "mimetype": "text/x-python",
   "name": "python",
   "nbconvert_exporter": "python",
   "pygments_lexer": "ipython3",
   "version": "3.8.8"
  }
 },
 "nbformat": 4,
 "nbformat_minor": 5
}
