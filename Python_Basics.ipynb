{
 "cells": [
  {
   "cell_type": "code",
   "execution_count": 1,
   "id": "57168012",
   "metadata": {},
   "outputs": [
    {
     "name": "stdout",
     "output_type": "stream",
     "text": [
      "3.8.8 (default, Apr 13 2021, 15:08:03) [MSC v.1916 64 bit (AMD64)]\n"
     ]
    }
   ],
   "source": [
    "# Write a Python code to return your Python version\n",
    "import sys\n",
    "print(sys.version)"
   ]
  },
  {
   "cell_type": "code",
   "execution_count": 42,
   "id": "ae1a50d2",
   "metadata": {},
   "outputs": [
    {
     "data": {
      "text/plain": [
       "'customer id = 513'"
      ]
     },
     "execution_count": 42,
     "metadata": {},
     "output_type": "execute_result"
    }
   ],
   "source": [
    "# Write a Python code to declare variable id=\"513\".\n",
    "# Print the following statement \"customer id =513\". [Don't use print(\"customer id = 513\")\n",
    "\n",
    "id = \"513\"\n",
    "(\"customer id = \" + id)\n"
   ]
  },
  {
   "cell_type": "code",
   "execution_count": 22,
   "id": "1f84bd1b",
   "metadata": {},
   "outputs": [],
   "source": [
    "# Run the following statement, why there is an error\n",
    "\n",
    "# id=id+1 \n",
    "# TypeError: can only concatenate str (not \"int\") to str\n",
    "# Since the variable id is a string it must be concatenated with another string such as \"1\" (with quotes)\n",
    "# id = id + \"1\"\n",
    "# Otherwise, id must be typecasted into an integer first in order to perform addition\n",
    "\n",
    "# Convert the variable id into an integer, increment it by 1.\n",
    "# Assign the result to variable new_id.\n",
    "# Print the new_id\n",
    "\n",
    "new_id = int(id) + 1\n",
    "\n"
   ]
  },
  {
   "cell_type": "code",
   "execution_count": 24,
   "id": "010cac9e",
   "metadata": {},
   "outputs": [
    {
     "name": "stdout",
     "output_type": "stream",
     "text": [
      "514\n"
     ]
    }
   ],
   "source": [
    "print(new_id)"
   ]
  },
  {
   "cell_type": "code",
   "execution_count": 46,
   "id": "d3ab3afe",
   "metadata": {},
   "outputs": [
    {
     "name": "stdout",
     "output_type": "stream",
     "text": [
      "Twinkle, twinkle, little star, \n",
      " \t How I wonder what you are! \n",
      " \t\t Up above the world so high, \n",
      "\t\t\t Like a diamond in the sky.\n"
     ]
    }
   ],
   "source": [
    "# Write a Python code to print the following string in a specific format (see the\n",
    "# Twinkle, twinkle, little star,\n",
    "#     How I wonder what you are!\n",
    "#        Up above the world so high,\n",
    "#            Like a diamond in the sky.\n",
    "\n",
    "print(\"Twinkle, twinkle, little star, \\n \\t How I wonder what you are! \\n \\t\\t Up above the world so high, \\n\\t\\t\\t Like a diamond in the sky.\")"
   ]
  },
  {
   "cell_type": "code",
   "execution_count": 29,
   "id": "423405a0",
   "metadata": {},
   "outputs": [
    {
     "name": "stdout",
     "output_type": "stream",
     "text": [
      "P\n"
     ]
    }
   ],
   "source": [
    "# Given the following string variable, print the first element in the string\n",
    "\n",
    "course=\"Python for Data Science\"\n",
    "\n",
    "print(course[0])"
   ]
  },
  {
   "cell_type": "code",
   "execution_count": 48,
   "id": "8a58826b",
   "metadata": {},
   "outputs": [
    {
     "name": "stdout",
     "output_type": "stream",
     "text": [
      "t\n",
      "41\n",
      "t\n",
      "Data\n"
     ]
    }
   ],
   "source": [
    "# Print the element on the 13th index in the string\n",
    "\n",
    "print(course[13])\n",
    "\n",
    "# Find the length of string\n",
    "\n",
    "print(len(course))\n",
    "\n",
    "# Print the last element in the string [use negative index]\n",
    "\n",
    "print(course[-1])\n",
    "\n",
    "# Take the slice on variable course with only index 11 to index 14\n",
    "\n",
    "print(course[11:15]) # Add one to the end of the range to include index 14"
   ]
  },
  {
   "cell_type": "code",
   "execution_count": 35,
   "id": "7407be4f",
   "metadata": {},
   "outputs": [
    {
     "name": "stdout",
     "output_type": "stream",
     "text": [
      "Ph ra i\n"
     ]
    }
   ],
   "source": [
    "# Get every third element in the range from index 0 to index 20\n",
    "\n",
    "print(course[0:20:3])"
   ]
  },
  {
   "cell_type": "code",
   "execution_count": 36,
   "id": "38446384",
   "metadata": {},
   "outputs": [
    {
     "name": "stdout",
     "output_type": "stream",
     "text": [
      "Python for Data Science, AI & Development\n"
     ]
    }
   ],
   "source": [
    "# Concatenate course string with \", AI & Development\"\n",
    "\n",
    "course = course + \", AI & Development\"\n",
    "print(course)\n"
   ]
  },
  {
   "cell_type": "code",
   "execution_count": 38,
   "id": "520b4e08",
   "metadata": {},
   "outputs": [
    {
     "name": "stdout",
     "output_type": "stream",
     "text": [
      "Python_for_Data_Science,_AI_&_Development\n"
     ]
    }
   ],
   "source": [
    "# Replace all the spaces with (_). New string should looks like \"Python_for_Data_Science\"\n",
    "\n",
    "course_modified = course.replace(\" \", \"_\")\n",
    "print(course_modified)"
   ]
  },
  {
   "cell_type": "code",
   "execution_count": 39,
   "id": "047f2b23",
   "metadata": {},
   "outputs": [],
   "source": [
    "# Convert all the characters in string to upper case\n",
    "\n",
    "course_upper = course.upper()"
   ]
  },
  {
   "cell_type": "code",
   "execution_count": 41,
   "id": "bc413e05",
   "metadata": {},
   "outputs": [
    {
     "name": "stdout",
     "output_type": "stream",
     "text": [
      "PYTHON FOR DATA SCIENCE, AI & DEVELOPMENT\n"
     ]
    }
   ],
   "source": [
    "print(course_upper)\n"
   ]
  },
  {
   "cell_type": "code",
   "execution_count": null,
   "id": "08f2e232",
   "metadata": {},
   "outputs": [],
   "source": []
  }
 ],
 "metadata": {
  "kernelspec": {
   "display_name": "Python 3",
   "language": "python",
   "name": "python3"
  },
  "language_info": {
   "codemirror_mode": {
    "name": "ipython",
    "version": 3
   },
   "file_extension": ".py",
   "mimetype": "text/x-python",
   "name": "python",
   "nbconvert_exporter": "python",
   "pygments_lexer": "ipython3",
   "version": "3.8.8"
  }
 },
 "nbformat": 4,
 "nbformat_minor": 5
}
