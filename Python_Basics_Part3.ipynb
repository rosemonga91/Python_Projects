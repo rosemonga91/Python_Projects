{
 "cells": [
  {
   "cell_type": "code",
   "execution_count": 16,
   "id": "9b11934c",
   "metadata": {},
   "outputs": [
    {
     "name": "stdout",
     "output_type": "stream",
     "text": [
      "The list is empty!\n"
     ]
    }
   ],
   "source": [
    "# Write a Python program to check if a list is empty or not\n",
    "\n",
    "L = []\n",
    "if L == []: print(\"The list is empty!\")"
   ]
  },
  {
   "cell_type": "code",
   "execution_count": 25,
   "id": "82b237cb",
   "metadata": {},
   "outputs": [
    {
     "data": {
      "text/plain": [
       "['Green', 'White', 'Black']"
      ]
     },
     "execution_count": 25,
     "metadata": {},
     "output_type": "execute_result"
    }
   ],
   "source": [
    "# Write a Python program to print a specified list after removing the 0th, 4th and 5th elements. \n",
    "# Sample List : ['Red', 'Green', 'White', 'Black', 'Pink', 'Yellow']\n",
    "\n",
    "L = ['Red', 'Green', 'White', 'Black', 'Pink', 'Yellow']\n",
    "\n",
    "Lcopy = L.copy() # Create a copy of original list\n",
    "\n",
    "L.remove(Lcopy[0]) # Delete first element\n",
    "L.remove(Lcopy[4]) \n",
    "L.remove(Lcopy[5]) \n",
    "L\n"
   ]
  },
  {
   "cell_type": "code",
   "execution_count": 26,
   "id": "e5c9866b",
   "metadata": {},
   "outputs": [
    {
     "name": "stdout",
     "output_type": "stream",
     "text": [
      "2\n"
     ]
    }
   ],
   "source": [
    "# Write a Python program to find the index of an item in a specified list.\n",
    "\n",
    "\n",
    "L = ['Red', 'Green', 'White', 'Black', 'Pink', 'Yellow']\n",
    "\n",
    "item = \"White\"\n",
    "\n",
    "print(L.index(item))"
   ]
  },
  {
   "cell_type": "code",
   "execution_count": 18,
   "id": "43d49e47",
   "metadata": {},
   "outputs": [
    {
     "data": {
      "text/plain": [
       "'HELLO'"
      ]
     },
     "execution_count": 18,
     "metadata": {},
     "output_type": "execute_result"
    }
   ],
   "source": [
    "# Write a Python program to convert a tuple to a string\n",
    "\n",
    "T = ('H', 'E', 'L', 'L', 'O')\n",
    "''.join(T)"
   ]
  },
  {
   "cell_type": "code",
   "execution_count": 1,
   "id": "1e307f34",
   "metadata": {},
   "outputs": [
    {
     "name": "stdout",
     "output_type": "stream",
     "text": [
      "{32, 1, 3}\n"
     ]
    }
   ],
   "source": [
    "# Write a Python program to find the repeated items of a tuple\n",
    "\n",
    "T = (1,3,4,32,1,1,1,31,32,12,21,2,3) \n",
    "T\n",
    "S = set() # Define a set\n",
    "\n",
    "#return the repeated items of the tuple \n",
    "for i in T:\n",
    "    if T.count(i) > 1:\n",
    "        S.add(i)      # Set cannot contain duplicates so repeated values are only shown once\n",
    "        \n",
    "print(S)"
   ]
  },
  {
   "cell_type": "code",
   "execution_count": 2,
   "id": "ab213a97",
   "metadata": {},
   "outputs": [
    {
     "data": {
      "text/plain": [
       "(2, 3)"
      ]
     },
     "execution_count": 2,
     "metadata": {},
     "output_type": "execute_result"
    }
   ],
   "source": [
    "# Write a Python program to slice a tuple\n",
    "\n",
    "T = (1, 2, 3, 4)\n",
    "\n",
    "T[1:3]"
   ]
  },
  {
   "cell_type": "code",
   "execution_count": 6,
   "id": "868c75f4",
   "metadata": {},
   "outputs": [
    {
     "data": {
      "text/plain": [
       "{1: 10, 2: 20, 3: 30, 4: 40, 5: 50, 6: 60}"
      ]
     },
     "execution_count": 6,
     "metadata": {},
     "output_type": "execute_result"
    }
   ],
   "source": [
    "# Write a Python script to concatenate following dictionaries to create a new one. \n",
    "# Sample Dictionary :\n",
    "# dic1={1:10, 2:20}\n",
    "# dic2={3:30, 4:40}\n",
    "# dic3={5:50,6:60}\n",
    "\n",
    "dic1={1:10, 2:20}\n",
    "dic2={3:30, 4:40}\n",
    "dic3={5:50,6:60}\n",
    "\n",
    "dic4 = {**dic1, **dic2, **dic3} \n",
    "dic4"
   ]
  },
  {
   "cell_type": "code",
   "execution_count": 11,
   "id": "b546d140",
   "metadata": {},
   "outputs": [
    {
     "data": {
      "text/plain": [
       "{1, 2}"
      ]
     },
     "execution_count": 11,
     "metadata": {},
     "output_type": "execute_result"
    }
   ],
   "source": [
    "# Write a Python program to add member(s) in a set\n",
    "\n",
    "S = set()\n",
    "S.add(1)\n",
    "S.add(2)\n",
    "S\n"
   ]
  },
  {
   "cell_type": "code",
   "execution_count": 12,
   "id": "bb12608d",
   "metadata": {},
   "outputs": [
    {
     "data": {
      "text/plain": [
       "True"
      ]
     },
     "execution_count": 12,
     "metadata": {},
     "output_type": "execute_result"
    }
   ],
   "source": [
    "# Write a Python program to check if a set is a subset of another set.\n",
    "\n",
    "S1 = {1, 2, 3}\n",
    "S2 = {1, 2, 3, 4, 5, 6}\n",
    "\n",
    "S1.issubset(S2)"
   ]
  },
  {
   "cell_type": "code",
   "execution_count": 17,
   "id": "7b8b923b",
   "metadata": {},
   "outputs": [
    {
     "name": "stdout",
     "output_type": "stream",
     "text": [
      "9\n",
      "2\n"
     ]
    }
   ],
   "source": [
    "# Write a Python program to find maximum and the minimum value in a set.\n",
    "\n",
    "S = {9, 2, 3, 4, 5, 6}\n",
    "\n",
    "print(max(S))\n",
    "print(min(S))"
   ]
  },
  {
   "cell_type": "code",
   "execution_count": null,
   "id": "5405e9c1",
   "metadata": {},
   "outputs": [],
   "source": []
  }
 ],
 "metadata": {
  "kernelspec": {
   "display_name": "Python 3",
   "language": "python",
   "name": "python3"
  },
  "language_info": {
   "codemirror_mode": {
    "name": "ipython",
    "version": 3
   },
   "file_extension": ".py",
   "mimetype": "text/x-python",
   "name": "python",
   "nbconvert_exporter": "python",
   "pygments_lexer": "ipython3",
   "version": "3.8.8"
  }
 },
 "nbformat": 4,
 "nbformat_minor": 5
}
